{
 "cells": [
  {
   "cell_type": "code",
   "execution_count": null,
   "metadata": {
    "collapsed": false
   },
   "outputs": [],
   "source": [
    "%matplotlib notebook \n",
    "# Import modules\n",
    "import math\n",
    "import numpy as np\n",
    "import matplotlib.pyplot\n",
    "import tables as tb\n",
    "\n",
    "def merge(a,b):\n",
    "    final = np.zeros (len(a)+len(b))\n",
    "    for i in range(len(a)):\n",
    "        final[2*i]   = a[i]\n",
    "        final[2*i+1] = b[i]\n",
    "    return final"
   ]
  },
  {
   "cell_type": "code",
   "execution_count": null,
   "metadata": {
    "collapsed": false
   },
   "outputs": [],
   "source": [
    "#db_file = '/home/andrei2/Desktop/git/saltproc/develop/saltproc/data/db_saltproc.h5'\n",
    "#db_file = '/home/andrei2/Desktop/git/saltproc/test_data/tap/hardcoded/1/db_2187d.h5'\n",
    "db_file = '/home/andrei2/Desktop/git/meitner-task-2/saltproc_results/feed_leu_19.79/db_saltproc.h5'\n",
    "\n",
    "step = 3.0/365.0 # days\n",
    "\n",
    "db = tb.open_file(db_file, mode='r')\n",
    "# print(db)\n",
    "\n",
    "sim_param = db.root.simulation_parameters\n",
    "# Keff at t=0 depletion step\n",
    "k_bds = np.array([x['keff_bds'][0] for x in sim_param.iterrows()])\n",
    "k_bds_err = np.array([x['keff_bds'][1] for x in sim_param.iterrows()])\n",
    "# Keff at t=end depletion step\n",
    "k_eds = np.array([x['keff_eds'][0] for x in sim_param.iterrows()])\n",
    "k_eds_err = np.array([x['keff_eds'][1] for x in sim_param.iterrows()])\n",
    "\n",
    "db.close()\n",
    "\n",
    "days = step*np.arange(len(k_bds))\n",
    "days2 = np.linspace(step, (len(k_eds))*(step), num=len(k_eds), endpoint=True)"
   ]
  },
  {
   "cell_type": "code",
   "execution_count": null,
   "metadata": {
    "collapsed": false
   },
   "outputs": [],
   "source": [
    "db_file_5leu = '/home/andrei2/Desktop/git/meitner-task-2/saltproc_results/feed_leu_5/db_saltproc.h5'\n",
    "\n",
    "db_5leu = tb.open_file(db_file_5leu, mode='r')\n",
    "\n",
    "sim_param_5leu = db_5leu.root.simulation_parameters\n",
    "# Keff at t=0 depletion step\n",
    "k_bds_5 = np.array([x['keff_bds'][0] for x in sim_param_5leu.iterrows()])\n",
    "k_bds_err_5 = np.array([x['keff_bds'][1] for x in sim_param_5leu.iterrows()])\n",
    "# Keff at t=end depletion step\n",
    "k_eds_5 = np.array([x['keff_eds'][0] for x in sim_param_5leu.iterrows()])\n",
    "k_eds_err_5 = np.array([x['keff_eds'][1] for x in sim_param_5leu.iterrows()])\n",
    "\n",
    "db_5leu.close()\n",
    "\n",
    "days_5 = step*np.arange(len(k_bds_5))\n",
    "days2_5 = np.linspace(step, (len(k_eds_5))*(step), num=len(k_eds_5), endpoint=True)"
   ]
  },
  {
   "cell_type": "code",
   "execution_count": null,
   "metadata": {
    "collapsed": false
   },
   "outputs": [],
   "source": [
    "from pyne import serpent\n",
    "\n",
    "res = serpent.parse_res('/home/andrei2/Desktop/git/meitner-task-2/saltproc_results/no_feed_pure_sss/tap_res.m')\n",
    "\n",
    "keff_no = res['IMP_KEFF'][:,0]         # K-eff parsing from dictionary\n",
    "keff_no_err = res['IMP_KEFF'][:,1]         # K-eff standart deviation\n",
    "days_no = res['BURN_DAYS'][:,0]"
   ]
  },
  {
   "cell_type": "code",
   "execution_count": null,
   "metadata": {
    "collapsed": false
   },
   "outputs": [],
   "source": [
    "# Initialize figure\n",
    "fig_keff_1 = matplotlib.pyplot.figure(1, figsize=[8,6])\n",
    "ax = fig_keff_1.add_subplot(111)\n",
    "ax.grid(True)\n",
    "ax.plot(days, k_bds, '-', label='k$_{eff}$ at BDS (feed LEU 19.79%)', linewidth=1.5)\n",
    "ax.plot(days_5, k_bds_5, '-', label='k$_{eff}$ at BDS (feed LEU 5%)', linewidth=1.5)\n",
    "#ax.plot(days2, k_eds, '-', label='k$_{eff}$ at EDS', linewidth=1.5)\n",
    "\n",
    "#ax.fill_between(days, k_bds-k_bds_err, k_bds+k_bds_err, edgecolor='#808080', facecolor='#BEBEBE', linewidth=0.1)\n",
    "#ax.fill_between(days2, k_eds-k_eds_err, k_eds+k_eds_err, edgecolor='#808080', facecolor='#BEBEBE', linewidth=0.1)\n",
    "\n",
    "ax.legend(loc=0)\n",
    "ax.set_ylabel('Effective multiplication factor')\n",
    "ax.set_xlabel('EFPY')\n",
    "#ax.set_title('Multiplication factor for online reprocessing case ' + str(EOS) +' days')\n",
    "#ax.set_xlim(0,max(days2))\n",
    "#ax.set_ylim([1.0, 1.019])\n",
    "fig_keff_1.show()\n",
    "#fig_keff_1.savefig('../../../saltproc/examples/gallery/full_core/keff.png',bbox_inches='tight', dpi=700)\n",
    "#fig_keff_1.savefig('/home/andrei2/Desktop/git/publications/msbr-reproc/figures/keff_rem_cases.png',bbox_inches='tight', dpi=700)\n",
    "print(\"Keff drop over period %f\" %(k_bds[0]-k_eds[-1]))"
   ]
  },
  {
   "cell_type": "code",
   "execution_count": null,
   "metadata": {
    "collapsed": false
   },
   "outputs": [],
   "source": [
    "keff = merge(k_bds, k_eds)\n",
    "efpd = merge(days, days2)\n",
    "err = merge(k_bds_err, k_eds_err)\n",
    "\n",
    "keff_5 = merge(k_bds_5, k_eds_5)\n",
    "efpd_5 = merge(days_5, days2_5)\n",
    "err_5 = merge(k_bds_err_5, k_eds_err_5)\n",
    "\n",
    "\n",
    "# Initialize figure\n",
    "fig_keff_2 = matplotlib.pyplot.figure(2, figsize=[7,5])\n",
    "ax = fig_keff_2.add_subplot(111)\n",
    "ax.grid(True)\n",
    "ax.plot(efpd, keff, '-', label='LEU 19.79%', linewidth=0.5, markerfacecolor=\"None\")\n",
    "ax.plot(efpd_5, keff_5, '-', label='LEU 5%', linewidth=0.5, markerfacecolor=\"None\", alpha=0.8)\n",
    "ax.plot(days_no/365.0, keff_no, '-', label='no removal/feed', linewidth=1.5, markerfacecolor=\"None\")\n",
    "\n",
    "ax.fill_between(efpd, keff-err, keff+err, edgecolor='#808080', facecolor='#BEBEBE', linewidth=0.1)\n",
    "\n",
    "ax.legend(loc=0)\n",
    "ax.set_ylabel('Effective multiplication factor')\n",
    "ax.set_xlabel('EFPY')\n",
    "#ax.set_title('Multiplication factor for online reprocessing case ' + str(EOS) +' days')\n",
    "#ax.set_xlim(0,max(days2))\n",
    "ax.set_ylim([0.75, 1.018])\n",
    "#ax.set_xlim(125, 196.0)\n",
    "# zoomed 2\n",
    "#ax.set_xlim(367, 471.0)\n",
    "#ax.set_ylim(0.915, 0.963)\n",
    "# zoomed 1\n",
    "#ax.set_xlim(0, 104.0)\n",
    "#ax.set_ylim(0.98, 1.018)\n",
    "\n",
    "fig_keff_2.show()\n",
    "#fig_keff_2.savefig('/home/andrei2/Desktop/git/meitner-task-2/doc/2019-06-q4-report/figures/keff_3.png',bbox_inches='tight', dpi=700)\n",
    "#fig_keff_2.savefig('/home/andrei2/Desktop/git/meitner-task-2/doc/2019-06-q4-report/figures/keff_zoomed_1.png',bbox_inches='tight', dpi=700)\n",
    "print(k_bds[0])\n",
    "print(keff_5[0], keff_5[-1])\n",
    "print(keff[0], keff[-1])"
   ]
  }
 ],
 "metadata": {
  "anaconda-cloud": {},
  "kernelspec": {
   "display_name": "Python [default]",
   "language": "python",
   "name": "python3"
  },
  "language_info": {
   "codemirror_mode": {
    "name": "ipython",
    "version": 3
   },
   "file_extension": ".py",
   "mimetype": "text/x-python",
   "name": "python",
   "nbconvert_exporter": "python",
   "pygments_lexer": "ipython3",
   "version": "3.5.2"
  }
 },
 "nbformat": 4,
 "nbformat_minor": 1
}
